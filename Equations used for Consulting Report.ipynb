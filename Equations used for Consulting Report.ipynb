{
 "cells": [
  {
   "cell_type": "markdown",
   "id": "02dbf3d6",
   "metadata": {},
   "source": [
    "$x = \\frac{P((1+r)^{n})*r}{((1+r)^{n}-1)}$"
   ]
  },
  {
   "cell_type": "markdown",
   "id": "6b79fb0f",
   "metadata": {},
   "source": [
    "$P_{k} = P(1 + r)^{k} + x\\frac{1 − (1 + r)^{k}}{r}$"
   ]
  },
  {
   "cell_type": "code",
   "execution_count": 5,
   "id": "4aa920b2",
   "metadata": {},
   "outputs": [
    {
     "name": "stdout",
     "output_type": "stream",
     "text": [
      "mortgage payment per month= $ 1995.907485537547\n"
     ]
    }
   ],
   "source": [
    "#Mortgage Calculation from textbook chapter 4\n",
    "P = 300000\n",
    "r = 0.07/12 #annual percentage rate (APR) 7% per month = 0.07 per yr/12 = 0.00583333333 per month\n",
    "n = 360\n",
    "x = P*((1+r)**n)*r/((1+r)**n-1)\n",
    "print(\"mortgage payment per month= $\", x)"
   ]
  },
  {
   "cell_type": "code",
   "execution_count": 7,
   "id": "240e319e",
   "metadata": {},
   "outputs": [
    {
     "name": "stdout",
     "output_type": "stream",
     "text": [
      "mortgage payment per month= $ 2097.6435256583295\n",
      "mortgage payment per month= $ 2046.5288401685702\n",
      "mortgage payment per month= $ 1995.907485537547\n",
      "mortgage payment per month= $ 1945.794289704647\n",
      "mortgage payment per month= $ 1896.204070478896\n",
      "mortgage payment per month= $ 1847.1516012791838\n"
     ]
    }
   ],
   "source": [
    "P = 300000\n",
    "r = 0.075/12 \n",
    "n = 360\n",
    "x = P*((1+r)**n)*r/((1+r)**n-1)\n",
    "print(\"mortgage payment per month= $\", x)\n",
    "\n",
    "P = 300000\n",
    "r = 0.0725/12 \n",
    "n = 360\n",
    "x = P*((1+r)**n)*r/((1+r)**n-1)\n",
    "print(\"mortgage payment per month= $\", x)\n",
    "\n",
    "P = 300000\n",
    "r = 0.07/12 \n",
    "n = 360\n",
    "x = P*((1+r)**n)*r/((1+r)**n-1)\n",
    "print(\"mortgage payment per month= $\", x)\n",
    "\n",
    "P = 300000\n",
    "r = 0.0675/12 \n",
    "n = 360\n",
    "x = P*((1+r)**n)*r/((1+r)**n-1)\n",
    "print(\"mortgage payment per month= $\", x)\n",
    "\n",
    "P = 300000\n",
    "r = 0.065/12 \n",
    "n = 360\n",
    "x = P*((1+r)**n)*r/((1+r)**n-1)\n",
    "print(\"mortgage payment per month= $\", x)\n",
    "\n",
    "P = 300000\n",
    "r = 0.0625/12 \n",
    "n = 360\n",
    "x = P*((1+r)**n)*r/((1+r)**n-1)\n",
    "print(\"mortgage payment per month= $\", x)"
   ]
  },
  {
   "cell_type": "code",
   "execution_count": 9,
   "id": "58d53121",
   "metadata": {},
   "outputs": [
    {
     "name": "stdout",
     "output_type": "stream",
     "text": [
      "mortgage payment per month= $ 1995.907485537547\n",
      "mortgage payment per month= $ 2696.484812557275\n",
      "mortgage payment per month= $ 3483.2543765587125\n"
     ]
    }
   ],
   "source": [
    "P = 300000\n",
    "r = 0.07/12 \n",
    "n = 360\n",
    "x = P*((1+r)**n)*r/((1+r)**n-1)\n",
    "print(\"mortgage payment per month= $\", x)\n",
    "\n",
    "P = 300000\n",
    "r = 0.07/12 \n",
    "n = 180\n",
    "x = P*((1+r)**n)*r/((1+r)**n-1)\n",
    "print(\"mortgage payment per month= $\", x)\n",
    "\n",
    "P = 300000\n",
    "r = 0.07/12 \n",
    "n = 120\n",
    "x = P*((1+r)**n)*r/((1+r)**n-1)\n",
    "print(\"mortgage payment per month= $\", x)"
   ]
  },
  {
   "cell_type": "code",
   "execution_count": null,
   "id": "34a5fae7",
   "metadata": {},
   "outputs": [],
   "source": []
  }
 ],
 "metadata": {
  "kernelspec": {
   "display_name": "Python 3 (ipykernel)",
   "language": "python",
   "name": "python3"
  },
  "language_info": {
   "codemirror_mode": {
    "name": "ipython",
    "version": 3
   },
   "file_extension": ".py",
   "mimetype": "text/x-python",
   "name": "python",
   "nbconvert_exporter": "python",
   "pygments_lexer": "ipython3",
   "version": "3.9.12"
  }
 },
 "nbformat": 4,
 "nbformat_minor": 5
}
